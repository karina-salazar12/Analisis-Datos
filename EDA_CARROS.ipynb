{
 "cells": [
  {
   "cell_type": "markdown",
   "id": "9513779a-f956-4b23-a03a-b7093c21a8a5",
   "metadata": {},
   "source": [
    "<h1 style = \"color:#942222; text-align: center; font-weight: bold\"> Universidad Castro Carazo </h1>\n",
    "<h5 style = \"color:#bd3737; text-align: center\"> Analisis de Datos </h5>\n",
    "<center> <img src = \"carro.png\"> </center>\n",
    "</br> <!-- Esta linea crea un ENTER -->\n",
    "<p style = \"text-align: justify; font-family: Tahoma\" > El análisis de datos es un proceso sistemático y metódico que implica la recopilación, organización, interpretación y visualización de conjuntos de datos con el objetivo de extraer información significativa y relevante. Este proceso utiliza herramientas, tecnologías y procesos para encontrar tendencias y resolver problemas mediante datos.</p>"
   ]
  },
  {
   "cell_type": "markdown",
   "id": "9b480eb3-88a8-4acb-9287-59c77ea96835",
   "metadata": {},
   "source": [
    "<table>\n",
    "  <tr>\n",
    "    <td><img src = \"informacion (1).png\"></td>\n",
    "    <td>Repositorio UCI del set de datos</td>\n",
    "    <td><a href =\"https://archive.ics.uci.edu/dataset/10/automobile\\\">Enlace al Sitio Web</a> </td>\n",
    "  </tr>\n",
    "  <tr>\n",
    "    <td><img src = \"circulo-de-color.png\"></td>\n",
    "    <td>Paleta de Colores</td>\n",
    "    <td><a href =\"https://paletadecolores.com.mx/paleta/942222/bd3737/d4cdad/98c3a1/25857d/\">Enlace al Sitio Web</a></td>\n",
    "  </tr>\n",
    "</table>"
   ]
  },
  {
   "cell_type": "markdown",
   "id": "abc04db7-8919-4aa5-9f45-91a4c8bdbb74",
   "metadata": {},
   "source": [
    "<h2 Style=\"color:#98c3a1\">1. Carga y estandarizacion de los set de datos</h2>\n",
    "\n",
    "<ul>\n",
    "    <li style=\"font-family: Tahoma\"> Instalar e importar las librerias necesarias para trabajar</li>\n",
    "    <li style=\"font-family: Tahoma\"> Importar los archivos csv (Set de Datos)</li>\n",
    "    <li style=\"font-family: Tahoma\"> Revision de los set de datos (encabezados)</li>\n",
    "    <li style=\"font-family: Tahoma\"> Generar un unico set de datos</li>\n",
    "</ul>   \n",
    "<h4 Style=\"color:#25857d;font-family: Tahoma \">1.1) Instalar e importar las librerias necesarias para trabajar</h4>"
   ]
  },
  {
   "cell_type": "code",
   "execution_count": 1,
   "id": "21fd63b8-4cab-4306-96a1-cb3d961adf90",
   "metadata": {},
   "outputs": [
    {
     "ename": "ModuleNotFoundError",
     "evalue": "No module named 'numpy'",
     "output_type": "error",
     "traceback": [
      "\u001b[1;31m---------------------------------------------------------------------------\u001b[0m",
      "\u001b[1;31mModuleNotFoundError\u001b[0m                       Traceback (most recent call last)",
      "Cell \u001b[1;32mIn[1], line 1\u001b[0m\n\u001b[1;32m----> 1\u001b[0m \u001b[38;5;28;01mimport\u001b[39;00m \u001b[38;5;21;01mnumpy\u001b[39;00m \u001b[38;5;28;01mas\u001b[39;00m \u001b[38;5;21;01mnp\u001b[39;00m \u001b[38;5;66;03m#Esta libreria se usa para trabajar estructuras de datos (listas, tuplas, diccionario)\u001b[39;00m\n\u001b[0;32m      2\u001b[0m \u001b[38;5;28;01mimport\u001b[39;00m \u001b[38;5;21;01mpandas\u001b[39;00m \u001b[38;5;28;01mas\u001b[39;00m \u001b[38;5;21;01mpd\u001b[39;00m \u001b[38;5;66;03m#Esta libreria se usa para el manejo de datos (dataframe)\u001b[39;00m\n\u001b[0;32m      3\u001b[0m \u001b[38;5;28;01mimport\u001b[39;00m \u001b[38;5;21;01mmatplotlib\u001b[39;00m \u001b[38;5;28;01mas\u001b[39;00m \u001b[38;5;21;01mmpl\u001b[39;00m \u001b[38;5;66;03m#Esta libreria se usa para crear graficos\u001b[39;00m\n",
      "\u001b[1;31mModuleNotFoundError\u001b[0m: No module named 'numpy'"
     ]
    }
   ],
   "source": [
    "import numpy as np #Esta libreria se usa para trabajar estructuras de datos (listas, tuplas, diccionario)\n",
    "import pandas as pd #Esta libreria se usa para el manejo de datos (dataframe)\n",
    "import matplotlib as mpl #Esta libreria se usa para crear graficos\n",
    "import matplotlib.pyplot as plt #Esta libreria se usa para crear graficos\n",
    "import seaborn as sn #Esta libreria se usa para crear graficos\n",
    "\n",
    "import warnings #Esta libreria se usa para evitar que apaerezcan advertencias durante la ejecucion del codigo python \n",
    "warnings.filterwarnings(\"ignore\")"
   ]
  },
  {
   "cell_type": "markdown",
   "id": "12fccdfe-b978-47e6-bf11-4806564b2757",
   "metadata": {},
   "source": [
    "<h4 Style=\"color:#25857d;font-family: Tahoma \">1.2) Importar Set De Datos</h4>"
   ]
  },
  {
   "cell_type": "code",
   "execution_count": null,
   "id": "deaaf427-91e0-4fda-a1c9-7c8376f307ab",
   "metadata": {},
   "outputs": [],
   "source": [
    "#Esta tupla es para definir los nombres de cada variables (columna)\n",
    "cols=[\"symboling\", \"Normalized\", \"make\", \"fuel\", \"aspiration\", \"doors\",\n",
    "      \"style\", \"wheels\", \"engine\", \"base\", \"length\", \"width\", \"heingt\",\n",
    "      \"curb\", \"engineType\", \"Cylind3rs\", \"engine size\", \"system\", \"bor3\", \n",
    "      \"stroke\",\"compression\", \"hOrsepower\", \"peak\", \"CITY\", \"Higway\", \"price\"]\n",
    "\n",
    "dfAutos1=pd.read_csv(\"DataSet_Autos01.csv\", names=cols)\n",
    "dfAutos2=pd.read_csv(\"DataSet_Autos02.csv\", names=cols)\n",
    "\n",
    "print(\"Se cargaron los datos a la memoria\")"
   ]
  },
  {
   "cell_type": "markdown",
   "id": "5c3c6238-0834-4b77-82e1-521066dd3e16",
   "metadata": {},
   "source": [
    "<h4 Style=\"color:#25857d;font-family: Tahoma \">1.3) Revisar los Set De Datos</h4>"
   ]
  },
  {
   "cell_type": "markdown",
   "id": "de63ccd9-637d-4cf0-8214-25cd7dd3a268",
   "metadata": {},
   "source": [
    "<table>\n",
    "  <tr>\n",
    "    <td><img src = \"informacion (1).png\"></td>\n",
    "    <td>La primera columna de los set de datos se tiene que revisar para poder determinar si esta corresponde a un índide o una variable, para esto se usan los Meta Datos  </td>\n",
    "  </tr>\n",
    "  \n",
    "</table>"
   ]
  },
  {
   "cell_type": "code",
   "execution_count": null,
   "id": "60685d71-3f23-4492-b9ff-0c90d38fc17d",
   "metadata": {},
   "outputs": [],
   "source": [
    "dfAutos1.head(5)"
   ]
  },
  {
   "cell_type": "code",
   "execution_count": null,
   "id": "45fdc8f8-80e7-497b-8ec1-299c63e6f5f2",
   "metadata": {},
   "outputs": [],
   "source": [
    "dfAutos2.head(5)"
   ]
  },
  {
   "cell_type": "code",
   "execution_count": null,
   "id": "b2d9f95d-4d35-4c69-ac70-27bdb0d38953",
   "metadata": {},
   "outputs": [],
   "source": [
    "dfAutos1.tail(5)"
   ]
  },
  {
   "cell_type": "code",
   "execution_count": null,
   "id": "eabac108-9152-455a-8528-742abb078b6d",
   "metadata": {},
   "outputs": [],
   "source": [
    "dfAutos2.tail(5)"
   ]
  },
  {
   "cell_type": "code",
   "execution_count": null,
   "id": "cd1cdc51-ebe2-4856-8439-4a4336b301ec",
   "metadata": {},
   "outputs": [],
   "source": [
    "dfAutos1.shape"
   ]
  },
  {
   "cell_type": "code",
   "execution_count": null,
   "id": "18520430-7b0b-4c2b-aa06-6c98f3e5cab4",
   "metadata": {},
   "outputs": [],
   "source": [
    "dfAutos1.shape"
   ]
  },
  {
   "cell_type": "markdown",
   "id": "f4026ac6-8f7d-4116-bc1e-a513008eadf6",
   "metadata": {},
   "source": [
    "<table align=\"left\">\n",
    "    <tr>\n",
    "        <td><img src = \"informacion (1).png\"></td>\n",
    "        <td><p style =\"text-align: justify; font-family: Tahoma\" >Sanas prácticas para nombrar las variables: </p> \n",
    "            <ol>\n",
    "                <li> Los nombres de variables no deben empezar con un numero </li> \n",
    "                <li> Los nombres de variables no pueden ser iguales a una palabra reservada(for, if print)</li>\n",
    "                <li> Los nombres de variables no deben contener espacios (engine size=> engineSize / engine-size) </li>\n",
    "                <li> Los nombres de variables deben estar en el mismo idioma </li>\n",
    "                <li> Los nombres de variables deben estar todas en Minuscula o Mayuscula </li>\n",
    "        </ol>\n",
    "    </td>\n",
    "  </tr>\n",
    "</table>"
   ]
  },
  {
   "cell_type": "code",
   "execution_count": null,
   "id": "21012cd5-e9fc-4ed9-b66d-bb19b90d255a",
   "metadata": {},
   "outputs": [],
   "source": [
    "dfAutos1.columns #Para revisar que las variables se llamen igual"
   ]
  },
  {
   "cell_type": "code",
   "execution_count": null,
   "id": "307f49b9-a23d-4115-a28f-1b30c69ec70f",
   "metadata": {},
   "outputs": [],
   "source": [
    "dfAutos2.columns"
   ]
  },
  {
   "cell_type": "markdown",
   "id": "7b4ae798-8132-4753-aabd-0f943429141f",
   "metadata": {},
   "source": [
    "<h4 Style=\"color:#25857d;font-family: Tahoma \">1.4) Generar un unico Set De Datos</h4>"
   ]
  },
  {
   "cell_type": "markdown",
   "id": "b1910bda-b4da-4fb0-b0e7-567cc5ec882a",
   "metadata": {},
   "source": [
    "<table align=\"left\">\n",
    "    <tr>\n",
    "        <td><img src = \"informacion (1).png\"></td>\n",
    "        <td><p style =\"text-align: justify; font-family: Tahoma\" >Sanas prácticas para nombrar las variables: </p> \n",
    "            <ol>\n",
    "                <li> Las variables deben llamarse igual </li> \n",
    "                <li> Contener igual cantidad de variables y estar en el mismo orden</li>\n",
    "            </ol>\n",
    "        </td>\n",
    "      </tr>\n",
    "</table>"
   ]
  },
  {
   "cell_type": "code",
   "execution_count": null,
   "id": "009b78b7-51a5-4de1-98b4-a1c32bce9f34",
   "metadata": {},
   "outputs": [],
   "source": [
    "unionArchivos = [dfAutos1,dfAutos2]#para unir dataframes\n",
    "dfAutos=pd.concat(unionArchivos)\n",
    "dfAutos.shape"
   ]
  },
  {
   "cell_type": "markdown",
   "id": "8f804b09-0067-44c5-be1b-87bc8f07d1e3",
   "metadata": {},
   "source": [
    "<h4 Style=\"color:#25857d;font-family: Tahoma \">1.5) Solucionar los primeros errores identificados</h4>\n",
    "<table align=\"left\">\n",
    "    <tr>\n",
    "        <td><img src = \"informacion (1).png\"></td>\n",
    "        <td><ol>\n",
    "                <li> La columna 1 - un indice (hay que eliminarla) y generar un nuevo indice </li> \n",
    "                <li> Los errores de las variables (nombres)</li>\n",
    "            </ol>\n",
    "        </td>\n",
    "      </tr>\n",
    "</table>"
   ]
  },
  {
   "cell_type": "code",
   "execution_count": null,
   "id": "70e42535-6bf5-417b-b49e-8639b51d4658",
   "metadata": {},
   "outputs": [],
   "source": [
    "dfAutos.head(5)"
   ]
  },
  {
   "cell_type": "code",
   "execution_count": null,
   "id": "e1ef9456-3f26-465c-bb2d-77e7c99d2722",
   "metadata": {},
   "outputs": [],
   "source": [
    "dfAutos.reset_index(drop=True, inplace=True)\n",
    "dfAutos"
   ]
  },
  {
   "cell_type": "code",
   "execution_count": null,
   "id": "14d02a8c-a4c6-4103-b232-325244d1733b",
   "metadata": {},
   "outputs": [],
   "source": [
    "dfAutos.columns"
   ]
  },
  {
   "cell_type": "code",
   "execution_count": null,
   "id": "72e78c13-118c-40ff-bbcf-0ca79d3bbd33",
   "metadata": {},
   "outputs": [],
   "source": [
    "dfAutos.rename({'Normalized':'normalized', 'Cylind3rs':'cylinders', 'engine size':'engineSize','bor3':'bore', 'hOrsepower':'horsepower', 'CITY':'city', 'Higway':'higway'},axis=1, inplace=True)\n",
    "dfAutos.columns\n",
    "#para renombrar las columnas, axis=1 es para hacer el cambio sobre la columna"
   ]
  },
  {
   "cell_type": "code",
   "execution_count": null,
   "id": "a1492eab-aece-4318-a146-a8168d64b9ea",
   "metadata": {},
   "outputs": [],
   "source": [
    "dfAutos.head(5)"
   ]
  },
  {
   "cell_type": "markdown",
   "id": "480f1810-fc5a-4091-9e1c-b99e2cee7ca4",
   "metadata": {},
   "source": [
    "<h2 Style = \"color:  #25857d\">2. Manejo de valores faltantes</h2>\n",
    " \n",
    "<ol>\n",
    "<li>Identificar como se muestran los valores faltantes (NaN, ?, null, EspacioEnBlanco)</li>\n",
    "<li>Contar la cantidad de valores faltantes en cada una de las caracteristicas</li>\n",
    "<li>Imputacion simple de valores numericos</li>\n",
    "<li>Imputacion simple de valores categoricos</li>\n",
    "<li>Eliminar observaciones o registros</li>\n",
    "</ol>\n",
    " \n",
    "<h4 style=\"color:#616382; font-family: Times New Roman\">2.1 Identificar como se muestran los valores faltantes</h4>\n"
   ]
  },
  {
   "cell_type": "code",
   "execution_count": null,
   "id": "071312aa-f6d1-4f1f-bbe6-23bd10b07507",
   "metadata": {},
   "outputs": [],
   "source": [
    "dfAutos.head(10)\n"
   ]
  },
  {
   "cell_type": "code",
   "execution_count": null,
   "id": "12a5bea6-f0ce-4e3c-a811-f41a9f64165c",
   "metadata": {},
   "outputs": [],
   "source": [
    "dfAutos['normalized'].unique()"
   ]
  },
  {
   "cell_type": "code",
   "execution_count": null,
   "id": "b7f69d0b-2885-48c2-8b98-b5b778933cca",
   "metadata": {},
   "outputs": [],
   "source": [
    "dfAutos['price'].unique()"
   ]
  },
  {
   "cell_type": "code",
   "execution_count": null,
   "id": "3b74671e-8562-4b01-a9df-226a084ada50",
   "metadata": {},
   "outputs": [],
   "source": [
    "dfAutos.info()"
   ]
  },
  {
   "cell_type": "markdown",
   "id": "a3c265d0-4066-42fd-816a-7e6b6c640ec1",
   "metadata": {},
   "source": [
    "<h4 style=\"color:#616382; font-family: Times New Roman\">2.2 Contar la cantidad de valores faltantes en cada una de las caracteristicas</h4>"
   ]
  },
  {
   "cell_type": "code",
   "execution_count": null,
   "id": "caf96e6c-ee25-41a8-8327-8801ce135d37",
   "metadata": {},
   "outputs": [],
   "source": [
    "dfAutos.replace('?',np.nan, inplace=True)#remplaza signos de pregunta por nan\n",
    "dfAutos['normalized'].unique()"
   ]
  },
  {
   "cell_type": "code",
   "execution_count": null,
   "id": "f3538897-41c8-46d5-a131-48e5d38e4196",
   "metadata": {},
   "outputs": [],
   "source": [
    "dfTemp=dfAutos.isnull()#isnull identifica valores faltantes, devuelve resultado true o false, true valor faltante #dftemp es un data frame temporal\n",
    "dfTemp.head(2)"
   ]
  },
  {
   "cell_type": "code",
   "execution_count": null,
   "id": "0c0c88e5-a647-4e48-af95-602f3f6599af",
   "metadata": {},
   "outputs": [],
   "source": [
    "for columns in dfTemp.columns.values.tolist(): #convierte la columna en una lista \n",
    "    print(dfTemp[columns].value_counts())\n",
    "    print('')"
   ]
  },
  {
   "cell_type": "markdown",
   "id": "7801b1db-9397-42a9-9ee4-6028c3a7b0b7",
   "metadata": {},
   "source": [
    "<h4 style=\"color:#616382; font-family: Times New Roman\">2.3 Imputar valores numericos faltantes</h4>"
   ]
  },
  {
   "cell_type": "code",
   "execution_count": null,
   "id": "b7751d66-6029-479c-80c1-73e334121446",
   "metadata": {},
   "outputs": [],
   "source": [
    "dfTemp = dfAutos[dfAutos.peak.isnull()]\n",
    "dfTemp.head(5)"
   ]
  },
  {
   "cell_type": "code",
   "execution_count": null,
   "id": "82957ac8-5ccd-417b-a0b6-9c5e49d3905e",
   "metadata": {},
   "outputs": [],
   "source": [
    "dfTemp = dfAutos[dfAutos['make']=='renault']  #para filtrar por marca\n",
    "dfTemp.head(28)"
   ]
  },
  {
   "cell_type": "code",
   "execution_count": null,
   "id": "dcf97623-195f-457f-ab9b-34abc2c43fa4",
   "metadata": {},
   "outputs": [],
   "source": [
    "dfTemp = dfAutos[dfAutos.stroke.isnull()]\n",
    "dfTemp.head(7)"
   ]
  },
  {
   "cell_type": "code",
   "execution_count": null,
   "id": "4c215d5d-8e08-4a9e-8630-5c2c6ec0adb5",
   "metadata": {},
   "outputs": [],
   "source": [
    "dfTemp = dfAutos[dfAutos['make'] == 'mazda']\n",
    "dfTemp.head(20)"
   ]
  },
  {
   "cell_type": "code",
   "execution_count": null,
   "id": "345b60df-d68e-4bc1-a326-0e88a7886c02",
   "metadata": {},
   "outputs": [],
   "source": [
    "dfTemp2 = dfTemp[dfTemp['style']=='hatchback']\n",
    "dfTemp2.head(20)"
   ]
  },
  {
   "cell_type": "code",
   "execution_count": null,
   "id": "6cb16739-8fe3-4b3a-b8ac-31d7eea877a8",
   "metadata": {},
   "outputs": [],
   "source": [
    "dfTemp3 = dfTemp2[dfTemp2['horsepower']=='101']\n",
    "dfTemp3.head(20)"
   ]
  },
  {
   "cell_type": "code",
   "execution_count": null,
   "id": "f331b094-ae84-420a-b85d-b14e429b23de",
   "metadata": {},
   "outputs": [],
   "source": [
    "dfAutos.loc[92,'stroke'] = 3.39 #para posicionarse sobre una columna en especifico .loc\n",
    "dfAutos.loc[113,'stroke'] = 3.39\n",
    "dfAutos.loc[197,'stroke'] = 3.39\n",
    "dfAutos.loc[378,'stroke'] = 3.39\n",
    "print('Datos Imputados')\n"
   ]
  },
  {
   "cell_type": "code",
   "execution_count": null,
   "id": "6fa400f9-d8d9-49d9-976b-84e7078b24f4",
   "metadata": {},
   "outputs": [],
   "source": [
    "#Tarea, con normalized filtrar marca volskwagen, combustible,make,aspiration,style y caballos fuerza\n",
    "dfTemp = dfAutos[dfAutos.normalized.isnull()]\n",
    "dfTemp.head(85)"
   ]
  },
  {
   "cell_type": "code",
   "execution_count": null,
   "id": "2d36b88b-3364-487c-b2d7-46754e6b9315",
   "metadata": {},
   "outputs": [],
   "source": [
    "dfTemp = dfAutos[dfAutos['make']=='volkswagen']  #para filtrar por marca\n",
    "dfTemp.head(30)"
   ]
  },
  {
   "cell_type": "code",
   "execution_count": null,
   "id": "2fc82788-b568-4926-82bf-adef621be29a",
   "metadata": {},
   "outputs": [],
   "source": [
    "dfTemp2 = dfTemp[dfTemp['fuel']=='gas']\n",
    "dfTemp2.head(20)"
   ]
  },
  {
   "cell_type": "code",
   "execution_count": null,
   "id": "feaa1e60-9b68-4707-8b61-e274f3e76eba",
   "metadata": {},
   "outputs": [],
   "source": [
    "dfTemp2 = dfTemp[dfTemp['fuel']=='diesel']\n",
    "dfTemp2.head(10)"
   ]
  },
  {
   "cell_type": "code",
   "execution_count": null,
   "id": "3b7a1031-1267-4343-bdb4-abb92f2f5e5d",
   "metadata": {},
   "outputs": [],
   "source": [
    "dfTemp3 = dfTemp2[dfTemp2['style']=='sedan']\n",
    "dfTemp3.head(10)"
   ]
  },
  {
   "cell_type": "code",
   "execution_count": null,
   "id": "fd582056-cfad-410a-a3a7-37c7d2bb762b",
   "metadata": {},
   "outputs": [],
   "source": [
    "dfTemp3 = dfTemp2[dfTemp2['aspiration']=='turbo']\n",
    "dfTemp3.head(10)"
   ]
  },
  {
   "cell_type": "code",
   "execution_count": null,
   "id": "7269ba60-0278-48fc-9970-9f68a5dc2375",
   "metadata": {},
   "outputs": [],
   "source": [
    "dfAutos.loc[172,'stroke'] = 94 #para posicionarse sobre una columna en especifico .loc\n",
    "dfAutos.loc[347,'stroke'] = 94\n",
    "dfAutos.loc[300,'stroke'] = 94\n",
    "dfAutos.loc[375,'stroke'] = 94\n",
    "print('Datos Imputados')"
   ]
  },
  {
   "cell_type": "markdown",
   "id": "8cf07f7d-dded-4c1b-a7c8-32d68fd90c4b",
   "metadata": {},
   "source": [
    "<h4 style=\"color:#616382; font-family: Times New Roman\">2.3) Imputacion de datos por el valor promedio</h4>"
   ]
  },
  {
   "cell_type": "code",
   "execution_count": null,
   "id": "8e0462e0-e581-405d-8b91-818fd11d2dcf",
   "metadata": {},
   "outputs": [],
   "source": [
    "def calcPromedioFloat (variable):\n",
    "    average = round(dfAutos[variable].astype('float').mean(axis=0),2)\n",
    "    return average"
   ]
  },
  {
   "cell_type": "code",
   "execution_count": null,
   "id": "9c2988ce-9ec0-473c-b774-b1696a501173",
   "metadata": {},
   "outputs": [],
   "source": [
    "def calcPromedioInt (variable):\n",
    "    average = int(dfAutos[variable].astype('float').mean(axis=0))\n",
    "    return average"
   ]
  },
  {
   "cell_type": "code",
   "execution_count": null,
   "id": "63cb21c2-191f-441a-804f-209989c6d663",
   "metadata": {},
   "outputs": [],
   "source": [
    "def imputacionNumerica (variable, valor, dfAutos):\n",
    "    if variable in dfAutos.columns:\n",
    "        dfAutos[variable].replace(np.nan, valor, inplace=True)\n",
    "        print ('Imputacion Correcta')\n",
    "    else:\n",
    "        print(f'La columna {variable} no existe en del Marco de datos')"
   ]
  },
  {
   "cell_type": "code",
   "execution_count": null,
   "id": "2f194268-1df8-4c7c-9c8f-a7b012fefb52",
   "metadata": {},
   "outputs": [],
   "source": [
    "imputacionNumerica('normalized', calcPromedioInt('normalized'), dfAutos)\n",
    "imputacionNumerica('peak', calcPromedioInt('peak'), dfAutos)\n",
    "imputacionNumerica('horsepower', calcPromedioInt('horsepower'), dfAutos)\n",
    "imputacionNumerica('stroke', calcPromedioFloat('stroke'), dfAutos)\n",
    "imputacionNumerica('bore', calcPromedioFloat('bore'), dfAutos)"
   ]
  },
  {
   "cell_type": "code",
   "execution_count": null,
   "id": "7dd08ca3-ac0e-4aff-aba3-d93e73854ffd",
   "metadata": {},
   "outputs": [],
   "source": [
    "dfAutos[\"normalized\"].unique()"
   ]
  },
  {
   "cell_type": "markdown",
   "id": "a23eb08f-db75-4c3a-b2f6-06977b1cd2a8",
   "metadata": {},
   "source": [
    "<h3 Style=\"color:#25857d;font-family: Tahoma \">2.4) Imputacion de datos por el valor mas frecuente</h3>\n"
   ]
  },
  {
   "cell_type": "code",
   "execution_count": null,
   "id": "e254a1b7-eb07-4933-9d34-3f9a3ea800cb",
   "metadata": {},
   "outputs": [],
   "source": [
    "dfAutos.head(3)"
   ]
  },
  {
   "cell_type": "code",
   "execution_count": null,
   "id": "3b9531a7-c6cf-4606-b1d6-754c1d4db9fd",
   "metadata": {},
   "outputs": [],
   "source": [
    "dfAutos[\"doors\"].replace(np.nan,\"four\",inplace=True)\n",
    "print(\"Imputacion categorizada realizada\")"
   ]
  },
  {
   "cell_type": "markdown",
   "id": "7ee6fee1-55f1-465e-873e-ddfc9c534b9d",
   "metadata": {},
   "source": [
    "<h3 Style=\"color:#25857d;font-family: Tahoma \">2.5)Eliminar observaciones</h3>"
   ]
  },
  {
   "cell_type": "code",
   "execution_count": null,
   "id": "a77c981f-d504-4092-99bd-5e8ab0a4c8bc",
   "metadata": {},
   "outputs": [],
   "source": [
    "dfAutos.dropna(subset=[\"price\"],axis=0,inplace=True)\n",
    "dfAutos.reset_index(drop=True, inplace=True)"
   ]
  },
  {
   "cell_type": "code",
   "execution_count": null,
   "id": "d024b7dc-8163-4467-986d-e2396a04bf89",
   "metadata": {},
   "outputs": [],
   "source": [
    "def missing_cols(dfAutos):\n",
    "    total = 0\n",
    "    for col in dfAutos.columns:\n",
    "        missing_vals = dfAutos[col].isnull().sum()\n",
    "        total += missing_vals\n",
    "        if missing_vals != 0:\n",
    "            print(f'{col} => {dfAutos[col].isnull().sum()}')\n",
    "    if total == 0:\n",
    "        print('No hay valores faltantes')\n",
    " \n",
    "missing_cols(dfAutos)"
   ]
  },
  {
   "cell_type": "markdown",
   "id": "f09f7ec2-d9ee-4533-8aa0-29742e7b80fa",
   "metadata": {},
   "source": [
    "<h2 Style = \"color:  #a8c4a2\">3. Transformacion de datos</h2>\n",
    " \n",
    "<ol>\n",
    "<li>Formateo de Datos</li>\n",
    "<li>Tropicalizacion de Datos</li>\n",
    "<li>Agrupar Datos</li>\n",
    "</ol>\n",
    " \n",
    "<h4 style=\"color:#6b6b6b; font-family: Times New Roman\">3.1 Transformacion de Datos</h4>"
   ]
  },
  {
   "cell_type": "code",
   "execution_count": null,
   "id": "4da5d406-6540-4f0e-9380-0bd8349607c9",
   "metadata": {},
   "outputs": [],
   "source": [
    "dfAutos[\"make\"].unique()"
   ]
  },
  {
   "cell_type": "code",
   "execution_count": null,
   "id": "da7f83bd-7287-4df7-bd4c-f662b8b266e1",
   "metadata": {},
   "outputs": [],
   "source": [
    "dfAutos[\"fuel\"].unique()"
   ]
  },
  {
   "cell_type": "code",
   "execution_count": null,
   "id": "fe397ff1-c183-4162-994b-bf77e3927baa",
   "metadata": {},
   "outputs": [],
   "source": [
    "dfAutos[\"doors\"].unique()"
   ]
  },
  {
   "cell_type": "code",
   "execution_count": null,
   "id": "cecf03f9-c7de-4764-b8ef-c1bf3e7a0452",
   "metadata": {},
   "outputs": [],
   "source": [
    "dfAutos[\"style\"].unique()"
   ]
  },
  {
   "cell_type": "code",
   "execution_count": null,
   "id": "295d93ae-4567-4c9b-9017-04f3bb9d237c",
   "metadata": {},
   "outputs": [],
   "source": [
    "dfAutos[\"aspiration\"].unique()"
   ]
  },
  {
   "cell_type": "code",
   "execution_count": null,
   "id": "4e262ed6-2a5c-4217-a081-1c1b0b7b2dc4",
   "metadata": {},
   "outputs": [],
   "source": [
    "#estandarizar que todo esté en mayuscula \n",
    "dfAutos['make'] = dfAutos['make'].str.upper() ##  minuscula lower()\n",
    "dfAutos['fuel'] = dfAutos['fuel'].str.upper()\n",
    "dfAutos['doors'] = dfAutos['doors'].str.upper()\n",
    "dfAutos['style'] = dfAutos['style'].str.upper()\n",
    "dfAutos['aspiration'] = dfAutos['aspiration'].str.upper()\n",
    "dfAutos['wheels'] = dfAutos['wheels'].str.upper()\n",
    "dfAutos['engine'] = dfAutos['engine'].str.upper()\n",
    "dfAutos['system'] = dfAutos['system'].str.upper()\n",
    "dfAutos.head(5)"
   ]
  },
  {
   "cell_type": "code",
   "execution_count": null,
   "id": "ac19be0e-8042-4dc4-a3b4-47e9a2102dca",
   "metadata": {},
   "outputs": [],
   "source": [
    "dfAutos[\"normalized\"].unique()"
   ]
  },
  {
   "cell_type": "code",
   "execution_count": null,
   "id": "b790050a-40a0-4484-8449-665a5435c451",
   "metadata": {},
   "outputs": [],
   "source": [
    "dfAutos[['bore', 'stroke']] = dfAutos[['bore', 'stroke']].astype(float)\n",
    "dfAutos[['price', 'horsepower', 'peak', 'normalized']] = dfAutos[['price', 'horsepower', 'peak', 'normalized']].astype(int)\n",
    "dfAutos.info()"
   ]
  },
  {
   "cell_type": "code",
   "execution_count": null,
   "id": "00d93360-3df1-4a50-b614-7666f38e859e",
   "metadata": {},
   "outputs": [],
   "source": [
    "dfAutos['stroke'] = dfAutos['stroke'].round(1)\n",
    "dfAutos['base']= dfAutos['base'].round(1)\n",
    "dfAutos['bore']= dfAutos['bore'].round(1)\n",
    "dfAutos['length']= dfAutos['length'].round(1)\n",
    "dfAutos['width']= dfAutos['width'].round(1)\n",
    "dfAutos['heingt']= dfAutos['heingt'].round(1)\n",
    "dfAutos.head(5)"
   ]
  },
  {
   "cell_type": "code",
   "execution_count": null,
   "id": "fed77fd3-f360-4768-b67e-4a4a7f5a5cd0",
   "metadata": {},
   "outputs": [],
   "source": [
    "dfAutos[\"compression\"].unique() #puede salir una variable con decimales que en el dataset es sin decimal"
   ]
  },
  {
   "cell_type": "code",
   "execution_count": null,
   "id": "b84f2703-fbdc-4c0e-ae1a-63e786a525ea",
   "metadata": {},
   "outputs": [],
   "source": [
    "dfAutos['compression'] = dfAutos['compression'].astype(int)\n",
    "dfAutos['compression'].unique()"
   ]
  },
  {
   "cell_type": "markdown",
   "id": "9195db1b-7a3e-4ef9-948a-2dcaab1dd475",
   "metadata": {},
   "source": [
    "<h4 style=\"color:#6b6b6b; font-family: Times New Roman\">3.2 Tropicalizacion de Datos</h4>"
   ]
  },
  {
   "cell_type": "code",
   "execution_count": null,
   "id": "d14f03d5-fae8-49dc-9e59-c1f1c78cfd67",
   "metadata": {},
   "outputs": [],
   "source": [
    "dfAutos.head(2)"
   ]
  },
  {
   "cell_type": "code",
   "execution_count": null,
   "id": "f21113d4-43a3-4876-aad3-87eb0abd8ef2",
   "metadata": {},
   "outputs": [],
   "source": [
    "dfAutos[\"consumoCiudad(calc)\"]=234.21/dfAutos[\"city\"]\n",
    "dfAutos[\"consumoCiudad(calc)\"]=dfAutos[\"consumoCiudad(calc)\"].round(1)\n",
    "\n",
    "dfAutos[\"consumoPista(calc)\"]=234.21/dfAutos[\"higway\"]\n",
    "dfAutos[\"consumoPista(calc)\"]=dfAutos[\"consumoCiudad(calc)\"].round(1)\n",
    "\n",
    "dfAutos.head(2)"
   ]
  },
  {
   "cell_type": "markdown",
   "id": "c3f78b4d-535e-4369-954c-fda095fb1a51",
   "metadata": {},
   "source": [
    "<h4 style=\"color:#6b6b6b; font-family: Times New Roman\">3.3 Agrupaciones de Datos</h4>"
   ]
  },
  {
   "cell_type": "code",
   "execution_count": null,
   "id": "df012222-9edc-45f3-9d37-3b92499c3917",
   "metadata": {},
   "outputs": [],
   "source": [
    "bins = np.linspace(min(dfAutos[\"horsepower\"]),max(dfAutos[\"horsepower\"]),4)\n",
    "bins"
   ]
  },
  {
   "cell_type": "code",
   "execution_count": null,
   "id": "864356a2-591e-4ab8-b9cc-b610e72d24d6",
   "metadata": {},
   "outputs": [],
   "source": [
    "grupo=[\"HPbajo\",\"HPmedio\",\"HPalto\"]\n",
    "dfAutos[\"grupoHP\"]=pd.cut(dfAutos[\"horsepower\"],bins,labels=grupo, include_lowest=True)\n",
    "dfAutos.head(5)"
   ]
  },
  {
   "cell_type": "markdown",
   "id": "08944865-2878-41c5-85a6-9025e8a1969b",
   "metadata": {},
   "source": [
    "<h2 Style = \"color:  #a8c4a2\">4. Visualizacion de datos</h2>\n",
    " \n",
    "<ol>\n",
    "<li>Graficas de Barras</li>\n",
    "<li>Graficas circulares</li>\n",
    "<li>Graficas de Dispersion</li>\n",
    "</ol>"
   ]
  },
  {
   "cell_type": "markdown",
   "id": "a708d9af-d0fd-44dd-bbb5-ab63aee81cf3",
   "metadata": {},
   "source": [
    "<h4 style=\"color:#6b6b6b; font-family: Times New Roman\">4.1 Graficas de Barras</h4>\n"
   ]
  },
  {
   "cell_type": "code",
   "execution_count": null,
   "id": "d0c96127-bf9d-4347-8226-0dc1d12028b2",
   "metadata": {},
   "outputs": [],
   "source": [
    "mpl.rcParams[\"axes.spines.bottom\"]=True #para quitar las lineas de la caja que encierra el grafico \n",
    "mpl.rcParams[\"axes.spines.top\"]=False\n",
    "mpl.rcParams[\"axes.spines.left\"]=True\n",
    "mpl.rcParams[\"axes.spines.right\"]=False"
   ]
  },
  {
   "cell_type": "code",
   "execution_count": null,
   "id": "9391eb44-cfe5-468a-8b2a-a4d7ddf38c48",
   "metadata": {},
   "outputs": [],
   "source": [
    "#-------------------------------------------------------------------------------------------------#\n",
    "#Parametros: dfParam -> Es el set de datos completo,\n",
    "#            nomColumna -> El nombre de la variable por la cual voy a agrupar los datos.\n",
    "#            orden -> True para que ordenado de menor a mayor, False para se ordene de mayor a menor\n",
    "#-------------------------------------------------------------------------------------------------#\n",
    "def agrupaYcuenta(dfParam,nomColumna,orden):\n",
    "    gf = dfParam.groupby([nomColumna]).count()\n",
    "    gf = gf.iloc[:,0:1]\n",
    "    gf.rename({\"symboling\":\"cantidad\"},axis=1, inplace=True)\n",
    "    gf =gf.sort_values(\"cantidad\",ascending=orden)\n",
    "    return gf"
   ]
  },
  {
   "cell_type": "markdown",
   "id": "acfdb92d-deb1-4e51-9afa-85a9fb018f82",
   "metadata": {},
   "source": [
    "<h4 style=\"color:#6b6b6b; font-family: Times New Roman\">Pregunta de negocio: Cuantos autos hay segun el tipo de combustible</h4>"
   ]
  },
  {
   "cell_type": "code",
   "execution_count": null,
   "id": "0fd4c322-b7ec-416e-9d3b-3b5a59cea174",
   "metadata": {},
   "outputs": [],
   "source": [
    "\n",
    "dfAgrupado = agrupaYcuenta(dfAutos,\"fuel\",False)#para ejecutar el codigo que pusimos arriba\n",
    "\n",
    "#-------------------------------GRAFICO DE BARRAS------------------------------\n",
    "\n",
    "fig, ax = plt.subplots(1,1, figsize=(15,6.9),dpi=100)\n",
    "\n",
    "EtiquetaBarras = dfAgrupado.index.tolist()   #es el nombre de cada barra en ejex\n",
    "alturaBarras = dfAgrupado [\"cantidad\"].tolist () #este es el valor que define ell tamaño de la grafica\n",
    "coloresBarras = [\"#d4cdad\",\"#bd3737\",]\n",
    "\n",
    "gBarra = ax.bar(EtiquetaBarras, alturaBarras, color=coloresBarras)\n",
    "\n",
    "#--------------------------------------------------------------------------------\n",
    "#-------------------------------CONFIG DEL GRAFICO------------------------------\n",
    "#--------------------------------------------------------------------------------------\n",
    "\n",
    "titulo = \"Grafico 1: Lote de autos para inventario PK2\"\n",
    "plt.suptitle(titulo,\n",
    "            horizontalalignment = 'left',\n",
    "            x = 0.001,\n",
    "            y = 0.87,\n",
    "            transform = fig.transFigure,\n",
    "            fontsize = 20,\n",
    "            fontweight = 'bold',\n",
    "            fontfamily = 'serif')\n",
    " \n",
    "subtitulo = \"Cantidad de vehiculos agrupados segun el tipo de combustible, periodo 2001\"\n",
    "ax.set_title(subtitulo,\n",
    "            ha = 'left',\n",
    "            x = 0.001,\n",
    "            y = 0.80,\n",
    "            transform = fig.transFigure,\n",
    "            fontsize = 12,\n",
    "            fontweight = 'regular',\n",
    "            fontfamily = 'serif')\n",
    " \n",
    "etiquetax = \"Tipo de Combustible\"\n",
    "ax.set_xlabel(etiquetax,\n",
    "             ha = 'left',\n",
    "             fontsize = 10,\n",
    "             fontweight = 'regular',\n",
    "             fontfamily = 'serif')\n",
    " \n",
    "etiquetay = \"Cantidad de autos\"\n",
    "ax.set_ylabel(etiquetay,\n",
    "             ha = 'left',\n",
    "             fontsize = 10,\n",
    "             fontweight = 'regular',\n",
    "             fontfamily = 'serif')\n",
    " \n",
    "ax.xaxis.set_label_coords(x=0, y = - 0.07, transform = ax.transAxes)\n",
    "ax.yaxis.set_label_coords(x=-0.05, y = 0.68, transform = ax.transAxes)\n",
    "\n",
    "\n",
    "#---------------------------------------------------------------------------------------------#\n",
    "#-------------------------------Crear etiqueta para cada barra--------------------------------#\n",
    "#---------------------------------------------------------------------------------------------#\n",
    "for barra in gBarra:\n",
    "    altura = barra.get_height()\n",
    "    ax.text(barra.get_x() + barra.get_width() / 2, altura, str(altura), ha='center', va='bottom', fontsize=10, color='black')\n",
    "#---------------------------------------------------------------------------------------------#\n",
    "\n",
    "plt.subplots_adjust(top = 0.75)\n",
    "plt.show()"
   ]
  },
  {
   "cell_type": "markdown",
   "id": "01d7cddb-0172-4a59-98be-37f28df35bc0",
   "metadata": {},
   "source": [
    "<h4>Pregunta de Negocio #2</h4>\n",
    "<h5>Cual es la cantidad de autos segun estilo?</h5>"
   ]
  },
  {
   "cell_type": "code",
   "execution_count": null,
   "id": "1ff40608-a39d-496d-a6c7-a06cf8473f48",
   "metadata": {},
   "outputs": [],
   "source": [
    "dfAgrupado = agrupaYcuenta(dfAutos, 'style', False)\n",
    " \n",
    "#----------------------------GRAFICO DE BARRAS HORIZONTALES-----------------------------------#\n",
    "fig, ax = plt.subplots(1,1, figsize=(15,6.9), dpi=100)\n",
    " \n",
    "etiquetasBarras = dfAgrupado.index.tolist()\n",
    "valores = dfAgrupado['cantidad'].tolist()\n",
    " \n",
    "ypos = np.arange(len(etiquetasBarras))\n",
    "colores = [\"#a2caa5\",\"#e5eaa4\",\"#e5eaa4\",\"#e5eaa4\",\"#eb7072\"]\n",
    " \n",
    "barras = ax.barh(ypos, valores, color = colores, align = 'center', alpha=0.8, edgecolor='black')\n",
    "ax.set_yticks(ypos, labels=etiquetasBarras)\n",
    "#---------------------------------------------------------------------------------------------#\n",
    "#-----------------------------Configuracion estetica del grafico------------------------------#\n",
    "#---------------------------------------------------------------------------------------------#\n",
    " \n",
    "titulo = \"Grafico 2: Lote de autos para inventario PK2\"\n",
    "plt.suptitle(titulo,\n",
    "            horizontalalignment = 'left',\n",
    "            x = 0.001,\n",
    "            y = 0.87,\n",
    "            transform = fig.transFigure,\n",
    "            fontsize = 20,\n",
    "            fontweight = 'bold',\n",
    "            fontfamily = 'serif')\n",
    " \n",
    "subtitulo = \"Cantidad de vehiculos agrupados segun el estilo, periodo 2001\"\n",
    "ax.set_title(subtitulo,\n",
    "            ha = 'left',\n",
    "            x = 0.001,\n",
    "            y = 0.78,\n",
    "            transform = fig.transFigure,\n",
    "            fontsize = 12,\n",
    "            fontweight = 'regular',\n",
    "            fontfamily = 'serif')\n",
    " \n",
    "etiquetax = \"Cantidad de autos\"\n",
    "ax.set_xlabel(etiquetax,\n",
    "             ha = 'left',\n",
    "             fontsize = 10,\n",
    "             fontweight = 'regular',\n",
    "             fontfamily = 'serif')\n",
    " \n",
    "#etiquetay = \"Cantidad de autos\"\n",
    "#ax.set_ylabel(etiquetay,\n",
    "#             ha = 'left',\n",
    "#             fontsize = 10,\n",
    "#             fontweight = 'regular',\n",
    "#             fontfamily = 'serif')\n",
    " \n",
    "ax.xaxis.set_label_coords(x=0, y = - 0.07, transform = ax.transAxes)\n",
    "#ax.yaxis.set_label_coords(x=-0.05, y = 0.68, transform = ax.transAxes)\n",
    " \n",
    "#---------------------------------------------------------------------------------------------#\n",
    "#-------------------------------Crear etiqueta para cada barra--------------------------------#\n",
    "#---------------------------------------------------------------------------------------------#\n",
    "for barra in barras:\n",
    "    width = barra.get_width()\n",
    "    ax.text(width + 0.20, barra.get_y() + barra.get_height() / 2,f'{width:.0f}' , ha='left', va='center', fontsize=10, color='black')\n",
    "#---------------------------------------------------------------------------------------------#\n",
    " \n",
    "plt.subplots_adjust(top = 0.75)\n",
    "plt.show()"
   ]
  },
  {
   "cell_type": "markdown",
   "id": "a548f2ff-0e30-44d7-8966-7c83114774b0",
   "metadata": {},
   "source": [
    "<h4>Pregunta de Negocio #3</h4>\n",
    "<h5>Cual es la cantidad de autos segun la cantidad de puertas?</h5>"
   ]
  },
  {
   "cell_type": "code",
   "execution_count": null,
   "id": "2432241f-f2c6-4afa-b584-1d31066670ec",
   "metadata": {},
   "outputs": [],
   "source": [
    "dfAgrupado = agrupaYcuenta (dfAutos, 'doors', False)\n",
    " \n",
    "#--------------------------GRAFICA CIRCULAR------------------------------------------------#\n",
    "fig, ax = plt.subplots(1,1, figsize=(15,6.9),dpi=100)\n",
    " \n",
    "etiqueta = dfAgrupado.index.tolist() \n",
    "valores = dfAgrupado['cantidad'].tolist()\n",
    " \n",
    "coloresBarras = ['#a2caa5', '#faf5c8']\n",
    "explode = (0, 0.09)\n",
    " \n",
    "ax.pie(valores, \n",
    "       labels=etiqueta, \n",
    "       autopct='%1.1f%%',\n",
    "       colors=coloresBarras,\n",
    "       pctdistance=0.17,\n",
    "       labeldistance=-1.17, \n",
    "       shadow=False,\n",
    "       startangle=90,\n",
    "       explode = explode)\n",
    "#--------------------------------------------------------------------------------------------#\n",
    "#------------------------Configuracion estetica del grafico de barras------------------------#\n",
    "#--------------------------------------------------------------------------------------------#\n",
    "titulo = \"Grafico3: Inventario de vehiculos a la venta por parte de PK2\"\n",
    "plt.suptitle (titulo,\n",
    "              horizontalalignment = 'left',\n",
    "              x = 0.001,\n",
    "              y = 0.87,\n",
    "              transform = fig.transFigure,\n",
    "              fontsize = 20,\n",
    "              fontweight = \"bold\",\n",
    "              fontfamily = 'serif')\n",
    " \n",
    "subTitulo = \"Cantidad de vehiculos agrupados segun cantidad de puertas\"\n",
    "ax.set_title(subTitulo,\n",
    "             ha = 'left',\n",
    "             x = 0.001,\n",
    "             y = 0.80,\n",
    "             transform = fig.transFigure,\n",
    "             fontsize = 12,\n",
    "             fontweight = \"regular\",\n",
    "             fontfamily = \"serif\")\n",
    "#--------------------------------------------------------------------------------------------#\n",
    " \n",
    "plt.subplots_adjust(top = 0.75)\n",
    "fig.savefig(\"Grafico 3, cantidad de carros segun numero de puertas\", dpi=300, bbox_inches='tight')\n",
    "plt.show()"
   ]
  },
  {
   "cell_type": "markdown",
   "id": "62b0c77f-c5e9-42ef-badb-e9a3a6d2767e",
   "metadata": {},
   "source": [
    "<h4>Pregunta de Negocio #4</h4>\n",
    "<h5>Cual es la relación entre el tamaño del motor y el precio del auto?</h5>"
   ]
  },
  {
   "cell_type": "code",
   "execution_count": 3,
   "id": "f1161c8b-7eea-4f8d-8f21-145bc654c530",
   "metadata": {},
   "outputs": [
    {
     "ename": "NameError",
     "evalue": "name 'plt' is not defined",
     "output_type": "error",
     "traceback": [
      "\u001b[1;31m---------------------------------------------------------------------------\u001b[0m",
      "\u001b[1;31mNameError\u001b[0m                                 Traceback (most recent call last)",
      "Cell \u001b[1;32mIn[3], line 2\u001b[0m\n\u001b[0;32m      1\u001b[0m \u001b[38;5;66;03m#--------------------------GRAFICA DE DISPERSION------------------------------------------------#\u001b[39;00m\n\u001b[1;32m----> 2\u001b[0m fig, ax \u001b[38;5;241m=\u001b[39m plt\u001b[38;5;241m.\u001b[39msubplots(\u001b[38;5;241m1\u001b[39m,\u001b[38;5;241m1\u001b[39m, figsize\u001b[38;5;241m=\u001b[39m(\u001b[38;5;241m15\u001b[39m,\u001b[38;5;241m6.9\u001b[39m),dpi\u001b[38;5;241m=\u001b[39m\u001b[38;5;241m100\u001b[39m)\n\u001b[0;32m      4\u001b[0m motor \u001b[38;5;241m=\u001b[39m dfAutos[\u001b[38;5;124m'\u001b[39m\u001b[38;5;124mengineSize\u001b[39m\u001b[38;5;124m'\u001b[39m]\u001b[38;5;241m.\u001b[39mtolist() \n\u001b[0;32m      5\u001b[0m precio \u001b[38;5;241m=\u001b[39m dfAutos[\u001b[38;5;124m'\u001b[39m\u001b[38;5;124mprice\u001b[39m\u001b[38;5;124m'\u001b[39m]\u001b[38;5;241m.\u001b[39mtolist()\n",
      "\u001b[1;31mNameError\u001b[0m: name 'plt' is not defined"
     ]
    }
   ],
   "source": [
    "#--------------------------GRAFICA DE DISPERSION------------------------------------------------#\n",
    "fig, ax = plt.subplots(1,1, figsize=(15,6.9),dpi=100)\n",
    " \n",
    "motor = dfAutos['engineSize'].tolist() \n",
    "precio = dfAutos['price'].tolist()\n",
    " \n",
    "ax.scatter(motor, precio, c = \"#ff7857\", alpha=0.3)\n",
    "#--------------------------------------------------------------------------------------------#\n",
    "#------------------------Configuracion estetica del grafico de barras------------------------#\n",
    "#--------------------------------------------------------------------------------------------#\n",
    "titulo = \"Grafico 4: Inventario de vehiculos a la venta por parte de PK2\"\n",
    "plt.suptitle (titulo,\n",
    "              horizontalalignment = 'left',\n",
    "              x = 0.001,\n",
    "              y = 0.87,\n",
    "              transform = fig.transFigure,\n",
    "              fontsize = 20,\n",
    "              fontweight = \"bold\",\n",
    "              fontfamily = 'serif')\n",
    " \n",
    "subTitulo = \"Relacion entre las variables del tamano del motor y el precio\"\n",
    "ax.set_title(subTitulo,\n",
    "             ha = 'left',\n",
    "             x = 0.001,\n",
    "             y = 0.80,\n",
    "             transform = fig.transFigure,\n",
    "             fontsize = 12,\n",
    "             fontweight = \"regular\",\n",
    "             fontfamily = \"serif\")\n",
    " \n",
    "ax.xaxis.set_label_coords(x=0, y=-0.07, transform = ax.transAxes)\n",
    "ax.yaxis.set_label_coords(x=-0.05, y=0.68, transform = ax.transAxes)\n",
    "ax.tick_params(axis='both', labelsize = 10)\n",
    " \n",
    "etiqueta = \"Tamano del motor\"\n",
    "ax.set_xlabel(etiqueta,\n",
    "             ha = 'left',\n",
    "             fontsize = 10,\n",
    "             fontweight = \"regular\",\n",
    "             fontfamily = \"serif\")\n",
    " \n",
    "etiquetay = \"Precio del vehiculo\"\n",
    "ax.set_ylabel(etiquetay,\n",
    "             ha = 'left',\n",
    "             fontsize = 10,\n",
    "             fontweight = \"regular\",\n",
    "             fontfamily = \"serif\")\n",
    "#--------------------------------------------------------------------------------------------#\n",
    "plt.subplots_adjust(top = 0.75)\n",
    "fig.savefig(\"Grafico 4, Relacion de Variables\", dpi=300, bbox_inches='tight')\n",
    "plt.show()"
   ]
  },
  {
   "cell_type": "code",
   "execution_count": 4,
   "id": "f982d4b6-22cf-41ae-87e0-6383a1a6128f",
   "metadata": {},
   "outputs": [
    {
     "ename": "NameError",
     "evalue": "name 'plt' is not defined",
     "output_type": "error",
     "traceback": [
      "\u001b[1;31m---------------------------------------------------------------------------\u001b[0m",
      "\u001b[1;31mNameError\u001b[0m                                 Traceback (most recent call last)",
      "Cell \u001b[1;32mIn[4], line 2\u001b[0m\n\u001b[0;32m      1\u001b[0m \u001b[38;5;66;03m#--------------------------GRAFICA DE DISPERSION------------------------------------------------#\u001b[39;00m\n\u001b[1;32m----> 2\u001b[0m fig, ax \u001b[38;5;241m=\u001b[39m plt\u001b[38;5;241m.\u001b[39msubplots(\u001b[38;5;241m1\u001b[39m,\u001b[38;5;241m1\u001b[39m, figsize\u001b[38;5;241m=\u001b[39m(\u001b[38;5;241m15\u001b[39m,\u001b[38;5;241m6.9\u001b[39m),dpi\u001b[38;5;241m=\u001b[39m\u001b[38;5;241m100\u001b[39m)\n\u001b[0;32m      4\u001b[0m motor \u001b[38;5;241m=\u001b[39m dfAutos[\u001b[38;5;124m'\u001b[39m\u001b[38;5;124mengineSize\u001b[39m\u001b[38;5;124m'\u001b[39m]\u001b[38;5;241m.\u001b[39mtolist() \n\u001b[0;32m      5\u001b[0m consumo \u001b[38;5;241m=\u001b[39m dfAutos[\u001b[38;5;124m'\u001b[39m\u001b[38;5;124mconsumoCiudad(calc)\u001b[39m\u001b[38;5;124m'\u001b[39m]\u001b[38;5;241m.\u001b[39mtolist()\n",
      "\u001b[1;31mNameError\u001b[0m: name 'plt' is not defined"
     ]
    }
   ],
   "source": [
    "#--------------------------GRAFICA DE DISPERSION------------------------------------------------#\n",
    "fig, ax = plt.subplots(1,1, figsize=(15,6.9),dpi=100)\n",
    " \n",
    "motor = dfAutos['engineSize'].tolist() \n",
    "consumo = dfAutos['consumoCiudad(calc)'].tolist()\n",
    " \n",
    "ax.scatter(motor, consumo, c = \"#7a8370\", alpha=0.8)\n",
    "#--------------------------------------------------------------------------------------------#\n",
    "#------------------------Configuracion estetica del grafico de barras------------------------#\n",
    "#--------------------------------------------------------------------------------------------#\n",
    "titulo = \"Grafico 5: Inventario de vehiculos a la venta por parte de PK2\"\n",
    "plt.suptitle (titulo,\n",
    "              horizontalalignment = 'left',\n",
    "              x = 0.001,\n",
    "              y = 0.87,\n",
    "              transform = fig.transFigure,\n",
    "              fontsize = 20,\n",
    "              fontweight = \"bold\",\n",
    "              fontfamily = 'serif')\n",
    " \n",
    "subTitulo = \"Relacion entre las variables del tamano del motor y el consumo de combustible en ciudad\"\n",
    "ax.set_title(subTitulo,\n",
    "             ha = 'left',\n",
    "             x = 0.001,\n",
    "             y = 0.80,\n",
    "             transform = fig.transFigure,\n",
    "             fontsize = 12,\n",
    "             fontweight = \"regular\",\n",
    "             fontfamily = \"serif\")\n",
    " \n",
    "ax.xaxis.set_label_coords(x=0, y=-0.07, transform = ax.transAxes)\n",
    "ax.yaxis.set_label_coords(x=-0.05, y=0.48, transform = ax.transAxes)\n",
    "ax.tick_params(axis='both', labelsize = 10)\n",
    " \n",
    "etiqueta = \"Tamano del motor\"\n",
    "ax.set_xlabel(etiqueta,\n",
    "             ha = 'left',\n",
    "             fontsize = 10,\n",
    "             fontweight = \"regular\",\n",
    "             fontfamily = \"serif\")\n",
    " \n",
    "etiquetay = \"Consumo Combustible en Ciudad\"\n",
    "ax.set_ylabel(etiquetay,\n",
    "             ha = 'left',\n",
    "             fontsize = 10,\n",
    "             fontweight = \"regular\",\n",
    "             fontfamily = \"serif\")\n",
    "#--------------------------------------------------------------------------------------------#\n",
    "plt.subplots_adjust(top = 0.75)\n",
    "fig.savefig(\"Grafico 5, Relacion de Variables tamaño motor y consumo de combustible\", dpi=300, bbox_inches='tight')\n",
    "plt.show()"
   ]
  }
 ],
 "metadata": {
  "kernelspec": {
   "display_name": "Python 3 (ipykernel)",
   "language": "python",
   "name": "python3"
  },
  "language_info": {
   "codemirror_mode": {
    "name": "ipython",
    "version": 3
   },
   "file_extension": ".py",
   "mimetype": "text/x-python",
   "name": "python",
   "nbconvert_exporter": "python",
   "pygments_lexer": "ipython3",
   "version": "3.12.8"
  }
 },
 "nbformat": 4,
 "nbformat_minor": 5
}
