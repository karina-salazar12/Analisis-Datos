{
 "cells": [
  {
   "cell_type": "markdown",
   "id": "9513779a-f956-4b23-a03a-b7093c21a8a5",
   "metadata": {},
   "source": [
    "<h1 style = \"color:#942222; text-align: center; font-weight: bold\"> Universidad Castro Carazo </h1>\n",
    "<h5 style = \"color:#bd3737; text-align: center\"> Analisis de Datos </h5>\n",
    "<center> <img src = \"carro.png\"> </center>\n",
    "</br> <!-- Esta linea crea un ENTER -->\n",
    "<p style = \"text-align: justify; font-family: Tahoma\" > El análisis de datos es un proceso sistemático y metódico que implica la recopilación, organización, interpretación y visualización de conjuntos de datos con el objetivo de extraer información significativa y relevante. Este proceso utiliza herramientas, tecnologías y procesos para encontrar tendencias y resolver problemas mediante datos.</p>"
   ]
  },
  {
   "cell_type": "markdown",
   "id": "9b480eb3-88a8-4acb-9287-59c77ea96835",
   "metadata": {},
   "source": [
    "<table>\n",
    "  <tr>\n",
    "    <td><img src = \"informacion (1).png\"></td>\n",
    "    <td>Repositorio UCI del set de datos</td>\n",
    "    <td><a href =\"https://archive.ics.uci.edu/dataset/10/automobile\\\">Enlace al Sitio Web</a> </td>\n",
    "  </tr>\n",
    "  <tr>\n",
    "    <td><img src = \"circulo-de-color.png\"></td>\n",
    "    <td>Paleta de Colores</td>\n",
    "    <td><a href =\"https://paletadecolores.com.mx/paleta/942222/bd3737/d4cdad/98c3a1/25857d/\">Enlace al Sitio Web</a></td>\n",
    "  </tr>\n",
    "</table>"
   ]
  },
  {
   "cell_type": "markdown",
   "id": "abc04db7-8919-4aa5-9f45-91a4c8bdbb74",
   "metadata": {},
   "source": [
    "<h2 Style=\"color:#98c3a1\">1. Carga y estandarizacion de los set de datos</h2>\n",
    "\n",
    "<ul>\n",
    "    <li style=\"font-family: Tahoma\"> Instalar e importar las librerias necesarias para trabajar</li>\n",
    "    <li style=\"font-family: Tahoma\"> Importar los archivos csv (Set de Datos)</li>\n",
    "    <li style=\"font-family: Tahoma\"> Revision de los set de datos (encabezados)</li>\n",
    "    <li style=\"font-family: Tahoma\"> Generar un unico set de datos</li>\n",
    "</ul>   \n",
    "<h4 Style=\"color:#25857d;font-family: Tahoma \">1.1) Instalar e importar las librerias necesarias para trabajar</h4>"
   ]
  }
 ],
 "metadata": {
  "kernelspec": {
   "display_name": "Python 3 (ipykernel)",
   "language": "python",
   "name": "python3"
  },
  "language_info": {
   "codemirror_mode": {
    "name": "ipython",
    "version": 3
   },
   "file_extension": ".py",
   "mimetype": "text/x-python",
   "name": "python",
   "nbconvert_exporter": "python",
   "pygments_lexer": "ipython3",
   "version": "3.12.9"
  }
 },
 "nbformat": 4,
 "nbformat_minor": 5
}
